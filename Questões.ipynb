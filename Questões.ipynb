{
 "cells": [
  {
   "cell_type": "markdown",
   "metadata": {},
   "source": [
    "### Questão 1"
   ]
  },
  {
   "cell_type": "markdown",
   "metadata": {},
   "source": [
    "<strong>Atividade 1</strong>: Dado um <strong>conjunto de intervalos distintos</strong>, determinar a <strong>quantidade de intervalos distintos</strong>. Supondo os intervalos: (1,3), (2,5) e (7,9) o output esperado seria 2, uma vez que existem 2 conjuntos que são (1,5) e (7,9)\n",
    "\n",
    "<strong>Input</strong> exemplo:\n",
    "* (1,3),(4,7),(2,5),(6,8)\n",
    "* (1,3),(7,9),(2,5)\n",
    "\n",
    "<strong>Output</strong> exemplo:\n",
    "* 1\n",
    "* 2"
   ]
  },
  {
   "cell_type": "code",
   "execution_count": 1,
   "metadata": {},
   "outputs": [],
   "source": [
    "import more_itertools as mit\n",
    "def IntervalosDistintos(ListaConjuntos):\n",
    "    \n",
    "    intervalosDistintos = []\n",
    "    lista = []\n",
    "    \n",
    "    # Criando os intervalos dos conjuntos\n",
    "    for i in ListaConjuntos:\n",
    "        lista.append(list(range(i[0],i[1])))\n",
    "    for l in lista:\n",
    "        l.pop(0)\n",
    "    \n",
    "    for l in lista:\n",
    "        for numero in l:\n",
    "            if numero not in intervalosDistintos:\n",
    "                intervalosDistintos.append(numero)\n",
    "    \n",
    "    intervalosDistintos.sort()\n",
    "    \n",
    "    # Numeros Consecutivos - sem o import mit iterpools\n",
    "    intervalos = []\n",
    "\n",
    "    primeiroElemento = intervalosDistintos.pop(0)\n",
    "    intervalos.append([primeiroElemento])\n",
    "\n",
    "    for numero in intervalosDistintos:\n",
    "        for lis in intervalos:\n",
    "\n",
    "            consecutivo = lis[-1] + 1\n",
    "\n",
    "            if numero == consecutivo:\n",
    "                lis.append(numero)\n",
    "\n",
    "            if numero != consecutivo:\n",
    "                if lis == intervalos[-1]:\n",
    "                    intervalos.append([numero])\n",
    "                    # iterar prox lista dps de add nova lista\n",
    "                    break\n",
    "                else:\n",
    "                    #iterar prox lista\n",
    "                    continue\n",
    "            # iterar prox numero\n",
    "            continue\n",
    "                 \n",
    "    # Numeros Consecutivos - com o import mit iterpools = quantidadeIntervalos no comentario abaixo\n",
    "    # quantidadeIntervalos = [list(group) for group in mit.consecutive_groups(intervalosDistintos)]\n",
    "    \n",
    "    print('Intervalos Distintos :', intervalos)\n",
    "    print('Quantidade de Intervalos Distintos :', len(intervalos))\n",
    "    \n",
    "    return len(intervalos)"
   ]
  },
  {
   "cell_type": "markdown",
   "metadata": {},
   "source": [
    "* Inputs\n",
    "    * Exemplos:\n",
    "    * exemplo1 = [(1,3),(4,7),(2,5),(6,8)]\n",
    "    * exemplo2 = [(1,3),(7,9),(2,5)]\n",
    "    * exemplo3 = [(1,7),(5,9),(10,13),(20,22)]"
   ]
  },
  {
   "cell_type": "code",
   "execution_count": 2,
   "metadata": {},
   "outputs": [],
   "source": [
    "input1 = [(1,3),(4,7),(2,5),(6,8)]\n",
    "input2 = [(1,3),(7,9),(2,5)]\n",
    "input3 = [(1,7),(5,9),(10,13),(20,22)]"
   ]
  },
  {
   "cell_type": "code",
   "execution_count": 3,
   "metadata": {},
   "outputs": [
    {
     "name": "stdout",
     "output_type": "stream",
     "text": [
      "Intervalos Distintos : [[2, 3, 4, 5, 6, 7]]\n",
      "Quantidade de Intervalos Distintos : 1\n"
     ]
    },
    {
     "data": {
      "text/plain": [
       "1"
      ]
     },
     "execution_count": 3,
     "metadata": {},
     "output_type": "execute_result"
    }
   ],
   "source": [
    "IntervalosDistintos(input1)"
   ]
  },
  {
   "cell_type": "code",
   "execution_count": 4,
   "metadata": {},
   "outputs": [
    {
     "name": "stdout",
     "output_type": "stream",
     "text": [
      "Intervalos Distintos : [[2, 3, 4], [8]]\n",
      "Quantidade de Intervalos Distintos : 2\n"
     ]
    },
    {
     "data": {
      "text/plain": [
       "2"
      ]
     },
     "execution_count": 4,
     "metadata": {},
     "output_type": "execute_result"
    }
   ],
   "source": [
    "IntervalosDistintos(input2)"
   ]
  },
  {
   "cell_type": "code",
   "execution_count": 5,
   "metadata": {},
   "outputs": [
    {
     "name": "stdout",
     "output_type": "stream",
     "text": [
      "Intervalos Distintos : [[2, 3, 4, 5, 6, 7, 8], [11, 12], [21]]\n",
      "Quantidade de Intervalos Distintos : 3\n"
     ]
    },
    {
     "data": {
      "text/plain": [
       "3"
      ]
     },
     "execution_count": 5,
     "metadata": {},
     "output_type": "execute_result"
    }
   ],
   "source": [
    "IntervalosDistintos(input3)"
   ]
  },
  {
   "cell_type": "markdown",
   "metadata": {},
   "source": [
    "### Questão 2"
   ]
  },
  {
   "cell_type": "markdown",
   "metadata": {},
   "source": [
    "<strong>Atividade 2:</strong> Será fornecido sequências de dois números, referente a quantidade de ocorrência de um determinado caráter numa palavra. Os caracteres serão respectivamente <strong>'a' e 'b'</strong>. O candidato deve retornar se possível um sequência de caracteres que use todos os caracteres e que não não tenha mais que dois caracteres repetidos juntos\n",
    "\n",
    "<strong>Input</strong> exemplo:\n",
    "* 3 6\n",
    "* 5 7\n",
    "\n",
    "<strong>Output</strong> exemplo:\n",
    "* bbabbabba\n",
    "* bbababababab"
   ]
  },
  {
   "cell_type": "code",
   "execution_count": 6,
   "metadata": {},
   "outputs": [],
   "source": [
    "def Q2(numeroA,numeroB):\n",
    "    \n",
    "    numeros = [numeroA,numeroB]\n",
    "    \n",
    "    numeroMax = max(numeros)\n",
    "    numeroMin = min(numeros)\n",
    "    #print(numeroMax,'-',numeroMin)\n",
    "    \n",
    "    palavra = \"\"\n",
    "    \n",
    "    # Começo da Sequencia com caracter a\n",
    "    if numeroMax == numeroA:\n",
    "        if numeroMax%numeroMin == 0:\n",
    "            while len(palavra) < (numeroA+numeroB):\n",
    "                \n",
    "                for i in range(2):\n",
    "                    if(palavra.count('a') < numeroA):\n",
    "                        palavra = palavra + 'a'\n",
    "                        if 'aaa' in palavra:\n",
    "                            return 'Não Foi possivel criar uma sequencia!'\n",
    "                \n",
    "                if(palavra.count('b') < numeroB):\n",
    "                    palavra = palavra + 'b'\n",
    "                    if 'bbb' in palavra:\n",
    "                            return 'Não Foi possivel criar uma sequencia!'\n",
    "        else:\n",
    "            for i in range(2):\n",
    "                   if(palavra.count('a') < numeroA):\n",
    "                        palavra = palavra + 'a'\n",
    "                        if 'aaa' in palavra:\n",
    "                            return 'Não Foi possivel criar uma sequencia!'\n",
    "            \n",
    "            while len(palavra) < (numeroA+numeroB):\n",
    "                \n",
    "                if numeroMax - numeroMin < 4:\n",
    "                \n",
    "                    if(palavra.count('b') < numeroB):\n",
    "                        palavra = palavra + 'b'\n",
    "                        if 'bbb' in palavra:\n",
    "                                return 'Não Foi possivel criar uma sequencia!'\n",
    "\n",
    "                    if(palavra.count('a') < numeroA):\n",
    "                        palavra = palavra + 'a'\n",
    "                        if 'aaa' in palavra:\n",
    "                                return 'Não Foi possivel criar uma sequencia!'\n",
    "                \n",
    "                else:\n",
    "                    if(palavra.count('b') < numeroB):\n",
    "                        palavra = palavra + 'b'\n",
    "                        if 'bbb' in palavra:\n",
    "                                return 'Não Foi possivel criar uma sequencia!'\n",
    "                            \n",
    "                    \n",
    "                    for i in range(2):\n",
    "                           if(palavra.count('a') < numeroA):\n",
    "                                palavra = palavra + 'a'\n",
    "                                if 'aaa' in palavra:\n",
    "                                    return 'Não Foi possivel criar uma sequencia!'\n",
    "                        \n",
    "    \n",
    "    \n",
    "    # Começo da Sequencia com caracter b\n",
    "    if numeroMax == numeroB:\n",
    "        if numeroMax%numeroMin == 0:\n",
    "            while len(palavra) < (numeroA+numeroB):\n",
    "                \n",
    "                for i in range(2):\n",
    "                    if(palavra.count('b') < numeroB):\n",
    "                        palavra = palavra + 'b'\n",
    "                        if 'bbb' in palavra:\n",
    "                            return 'Não Foi possivel criar uma sequencia!'\n",
    "                \n",
    "                if(palavra.count('a') < numeroA):\n",
    "                    palavra = palavra + 'a'\n",
    "                    if 'aaa' in palavra:\n",
    "                            return 'Não Foi possivel criar uma sequencia!'\n",
    "        else:\n",
    "            for i in range(2):\n",
    "                   if(palavra.count('b') < numeroB):\n",
    "                        palavra = palavra + 'b'\n",
    "                        if 'bbb' in palavra:\n",
    "                            return 'Não Foi possivel criar uma sequencia!'\n",
    "            \n",
    "            while len(palavra) < (numeroA+numeroB):\n",
    "                \n",
    "                if numeroMax - numeroMin < 4:\n",
    "                    if(palavra.count('a') < numeroA):\n",
    "                        palavra = palavra + 'a'\n",
    "                        if 'aaa' in palavra:\n",
    "                                return 'Não Foi possivel criar uma sequencia!'\n",
    "\n",
    "                    if(palavra.count('b') < numeroB):\n",
    "                        palavra = palavra + 'b'\n",
    "                        if 'bbb' in palavra:\n",
    "                                return 'Não Foi possivel criar uma sequencia!'\n",
    "                else:\n",
    "                    if(palavra.count('a') < numeroA):\n",
    "                        palavra = palavra + 'a'\n",
    "                        if 'aaa' in palavra:\n",
    "                                return 'Não Foi possivel criar uma sequencia!'\n",
    "\n",
    "                    \n",
    "                    for i in range(2):\n",
    "                           if(palavra.count('b') < numeroB):\n",
    "                                palavra = palavra + 'b'\n",
    "                                if 'bbb' in palavra:\n",
    "                                    return 'Não Foi possivel criar uma sequencia!'\n",
    "\n",
    "            \n",
    "   \n",
    "    #if numeroMax == numeroB:\n",
    "        \n",
    "    return palavra"
   ]
  },
  {
   "cell_type": "markdown",
   "metadata": {},
   "source": [
    "Exemplos de Inputs: \n",
    "* 3 6\n",
    "* 5 7\n",
    "* 10 1\n",
    "* 70 35\n",
    "* 7 3\n",
    "* 7 4\n",
    "* 9 4\n",
    "\n",
    "<strong>Outputs abaixo.</strong>"
   ]
  },
  {
   "cell_type": "code",
   "execution_count": 7,
   "metadata": {},
   "outputs": [
    {
     "data": {
      "text/plain": [
       "'bbabbabba'"
      ]
     },
     "execution_count": 7,
     "metadata": {},
     "output_type": "execute_result"
    }
   ],
   "source": [
    "Q2(3,6)"
   ]
  },
  {
   "cell_type": "code",
   "execution_count": 8,
   "metadata": {},
   "outputs": [
    {
     "data": {
      "text/plain": [
       "'bbababababab'"
      ]
     },
     "execution_count": 8,
     "metadata": {},
     "output_type": "execute_result"
    }
   ],
   "source": [
    "Q2(5,7)"
   ]
  },
  {
   "cell_type": "code",
   "execution_count": 9,
   "metadata": {},
   "outputs": [
    {
     "data": {
      "text/plain": [
       "'Não Foi possivel criar uma sequencia!'"
      ]
     },
     "execution_count": 9,
     "metadata": {},
     "output_type": "execute_result"
    }
   ],
   "source": [
    "Q2(10,1)"
   ]
  },
  {
   "cell_type": "code",
   "execution_count": 10,
   "metadata": {},
   "outputs": [
    {
     "data": {
      "text/plain": [
       "'aabaabaabaabaabaabaabaabaabaabaabaabaabaabaabaabaabaabaabaabaabaabaabaabaabaabaabaabaabaabaabaabaabaabaab'"
      ]
     },
     "execution_count": 10,
     "metadata": {},
     "output_type": "execute_result"
    }
   ],
   "source": [
    "Q2(70,35)"
   ]
  },
  {
   "cell_type": "code",
   "execution_count": 11,
   "metadata": {},
   "outputs": [
    {
     "data": {
      "text/plain": [
       "'aabaabaaba'"
      ]
     },
     "execution_count": 11,
     "metadata": {},
     "output_type": "execute_result"
    }
   ],
   "source": [
    "Q2(7,3)"
   ]
  },
  {
   "cell_type": "code",
   "execution_count": 12,
   "metadata": {},
   "outputs": [
    {
     "data": {
      "text/plain": [
       "'aababababaa'"
      ]
     },
     "execution_count": 12,
     "metadata": {},
     "output_type": "execute_result"
    }
   ],
   "source": [
    "Q2(7,4)"
   ]
  },
  {
   "cell_type": "code",
   "execution_count": 13,
   "metadata": {},
   "outputs": [
    {
     "data": {
      "text/plain": [
       "'aabaabaabaaba'"
      ]
     },
     "execution_count": 13,
     "metadata": {},
     "output_type": "execute_result"
    }
   ],
   "source": [
    "Q2(9,4)"
   ]
  },
  {
   "cell_type": "markdown",
   "metadata": {},
   "source": [
    "### Discursivas e pseudo-Código"
   ]
  },
  {
   "cell_type": "markdown",
   "metadata": {},
   "source": [
    "<p><strong>Atividade 3: A* é uma modificação de um algoritmo de busca. Qual o algoritmo usado como base? Qual a modificação proposta por A*? Podemos dizer que A* é uma abordagem gulosa? Em que tipo de jogo ele deve ser usado? Dê exemplos de caso ótimo e péssimo para o A*.</strong></p>\n",
    "<hr>\n",
    "<strong>Resposta:</strong> O A* usa como base o algoritmo de dijkstra , contendo uma modificação a qual seria de o A *  tenta procurar um caminho melhor usando uma função heurística que prioriza os nós que deveriam ser melhores que os outros.O que separa o A* de uma abordagem gulosa seria que o mesmo leva em consideração o custo/distância já percorrida. \n",
    "Tipo de Jogo.\n",
    "Exemplo: Tower defense (TD) é um gênero de videogames de estratégia  onde o objetivo de jogos de tower defense é tentar impedir que os inimigos percorram por um mapa, por meio de armadilhas para atrasá-los e torres que atiram neles enquanto passam.\n",
    "Assim o A* que geralmente é usado para encontrar o menor caminho entre dois pontos pode ser usado para cada inimigo para encontrar um caminho que o leve a alcançar esse objetivo."
   ]
  },
  {
   "cell_type": "markdown",
   "metadata": {},
   "source": [
    "<strong>Atividade 4: Um problema clássico em jogos está em suas políticas de se dar recompensa. Resumindo a missa: recompensas não devem ser puramente randômicas, por um lado jogadores tem que ter a chance de ganhar bons prêmios a qualquer momento, por outro lado eles não podem ganhar o tempo todo nem passar muito tempo sem ganhar. Quais modificações você implementaria ao random para melhorar essa experiência?</strong>\n",
    "<strong>Resposta:</strong>\n",
    "<div>Modificações:\n",
    "<p>Definiria um intervalo de tempo para controlar o tempo em que o random dá recompensas.</p>\n",
    "<p>Dividiria as recompensas em níveis de qualidade( Excelente ,boa , média , ruim … sem recompensa), as quais seriam dadas pelo random dependendo das jogadas do player. A recompensa seria determinada randomicamente entre uma faixa de níveis de qualidade.</p>\n",
    "<p>Ex: Jogadas do Player X determinam que ele ganhe uma recompensa que não seja ruim.</p>\n",
    "o random pegaria uma recompensa entre Recompensas Excelentes,Boas e médias com uma porcentagem para cada faixa (Excelente 5%, boa 15% média 80%).</p>\n",
    "<p>Depois de receber a recompensa, o intervalo de tempo a ser esperado para outra recompensa seria determinado pela qualidade da recompensa dada. Quanto melhor a recompensa mais tempo será esperado pelo random.</p></div>"
   ]
  },
  {
   "cell_type": "markdown",
   "metadata": {},
   "source": [
    "<p><strong>Atividade 11: Em um cenário hipotético uma operação de jogos tem várias e várias GB de logs salvos em arquivos de texto(em formato semi-estruturado). Devido um problema no servidor, alguns jogadores receberam o dobro de itens de uma determinada mecânica do jogo. Quais passos vc faria para detectar esses jogadores?</strong></p>\n",
    "<hr>\n",
    "<strong>Resposta:</strong><br>\n",
    "Algoritmo Detectar_Falha_Dobro_Itens:<br>\n",
    "Inicialização:<br>\n",
    "\t<p>Carregar os dados dos arquivos em texto de forma que podemos lê-los.</p><br>\n",
    "<p>para cada linha dentro do texto:</p><br>\n",
    "\t</p>adicionar a linha na lista Linhas</p><br>\n",
    "<p>Sabendo que a 1 linha ( 1 objeto da lista é a lista contendo os headers de informações tais como usuario, itensX, itensY....)</p><br>\n",
    "<p>para cada linha em Linhas:</p><br>\n",
    "\t<p>verificar se é a primeira, Linhas[0]:</p><br>\n",
    "\t\t<p>se sim faça: split na linha e adicione o resultado na lista Chaves.</p><br>\n",
    "\t\t<p>se não faça: split na linha e adicione o resultado na lista Valores.</p><br>\n",
    "<p>Crie uma lista de dicionários chamado Dados usando os valores das listas Chaves e valores.</p><br>\n",
    "<p>Percorra Dados:</p><br>\n",
    "\t<p>Salve numa lista chamada itensMecanicaX o nome do usuário e o campo contendo a quantidade de itens daquela mecânica itensX de cada dicionário dentro da lista UserItensX, como uma tupla (usuário,itensX).<p><br>\n",
    "<p>para cada Tupla em UserItensX:</p><br>\n",
    "\t<p>Verifique quais possuem o campo itensX com valor dobrado.</p><br>\n",
    "\t<p>Guarde os nomes dos usarios na lista Nomes.</p><br>\n",
    "<p>retorne Nomes</p><br>\n"
   ]
  },
  {
   "cell_type": "markdown",
   "metadata": {},
   "source": [
    "<p><strong>Atividade 12: Em um parágrafo descreva as vantagens e desvantagens de CI(Continuous Integration) na operação de software.</strong></p>\n",
    "<hr>\n",
    "<strong>Resposta:</strong>\n",
    "Na integração contínua tentamos estar sempre com a versão final do projeto atualizada e sem erros, para que isso ocorra a equipe de desenvolvedores precisará escrever testes automatizados para cada novo recurso,melhoria ou correção de bug e os desenvolvedores também precisam mesclar suas alterações do projeto no ramo principal o mais rápido possível além de manter um servidor de integração contínua que possa ficar monitorando o repositório principal executando os testes automaticamente para cada alteração feita. Feito tudo isso, a integração contínua nos garante que menos bugs serão enviados para produção visto que os mesmos foram capturados antecipadamente pelos testes e corrigidos pelos desenvolvedores que ao notarem que suas alterações foram quebradas podem trabalhar para corrigi-las antes de irem para outra tarefa , além de que, com os testes automatizados e executando no servidor, a equipe de controle fica livre para se concentrar na qualidade.Assim a criação da versão final é mais fácil, visto que os problemas de integração foram corrigidos anteriormente."
   ]
  },
  {
   "cell_type": "markdown",
   "metadata": {},
   "source": [
    "## Aplicação web e conexão ao banco de dados."
   ]
  },
  {
   "cell_type": "code",
   "execution_count": 14,
   "metadata": {},
   "outputs": [],
   "source": [
    "from flask import Flask, render_template, flash, redirect, url_for, session, request, logging\n",
    "# Acessar o mysql_db\n",
    "from flask_mysqldb import MySQL\n",
    "#Form validação\n",
    "from wtforms import Form, StringField, TextAreaField, PasswordField, validators\n",
    "# Encriptar passwd\n",
    "from passlib.hash import sha256_crypt\n",
    "from functools import wraps\n",
    "#import mysql.connector"
   ]
  },
  {
   "cell_type": "code",
   "execution_count": 17,
   "metadata": {},
   "outputs": [
    {
     "name": "stdout",
     "output_type": "stream",
     "text": [
      " * Serving Flask app \"__main__\" (lazy loading)\n",
      " * Environment: production\n",
      "   WARNING: This is a development server. Do not use it in a production deployment.\n",
      "   Use a production WSGI server instead.\n",
      " * Debug mode: on\n"
     ]
    },
    {
     "name": "stderr",
     "output_type": "stream",
     "text": [
      " * Running on http://127.0.0.1:5000/ (Press CTRL+C to quit)\n",
      "127.0.0.1 - - [29/Dec/2019 17:42:48] \"GET / HTTP/1.1\" 200 -\n"
     ]
    }
   ],
   "source": [
    "#init app\n",
    "app = Flask(__name__)\n",
    "\n",
    "# scret key\n",
    "app.config['SECRET_KEY'] = \"Un1qu0AndS3cr3t3\"\n",
    "\n",
    "# congif MySQL\n",
    "app.config['MYSQL_HOST'] = 'localhost'\n",
    "app.config['MYSQL_USER'] = 'root'\n",
    "app.config['MYSQL_PASSWORD'] = '1996Jcss3'\n",
    "app.config['MYSQL_DB'] = 'Raidhut'\n",
    "# Retorna os dados na forma de dicionario ao inves das tuplas(default) quando acessarmos o db.\n",
    "app.config['MYSQL_CURSORCLASS'] = 'DictCursor'\n",
    "\n",
    "# init MYSQL\n",
    "mysql = MySQL(app)\n",
    "\n",
    "# Função para armazenar logs\n",
    "def logs(acao,login,password,email):\n",
    "    # Create cursor\n",
    "    cur = mysql.connection.cursor()\n",
    "    # Execute query\n",
    "    cur.execute(\"INSERT INTO registros (log_acao,log_login,log_senha,log_email) VALUES(%s,%s,%s,%s)\",(acao,login,password,email))\n",
    "    # Commit to DB - Salva alterações\n",
    "    mysql.connection.commit()\n",
    "    # Close connection\n",
    "    cur.close()    \n",
    "\n",
    "# Metodos\n",
    "@app.route('/')\n",
    "def index():\n",
    "    return render_template('home.html')\n",
    "\n",
    "@app.route('/about')\n",
    "def about():\n",
    "    return render_template('about.html')\n",
    "\n",
    "class RegisterForm(Form):\n",
    "    login = StringField('Login',[validators.Length(min=4, max=25)])\n",
    "    email = StringField('Email',[validators.Length(min=6, max=50)])\n",
    "    password = PasswordField('Password', [\n",
    "        validators.DataRequired(),\n",
    "        validators.EqualTo('confirm', message='Passwords do not match')\n",
    "    ])\n",
    "    confirm = PasswordField('Confirm Password')\n",
    "    \n",
    "# User Register - Metodo de Criação\n",
    "@app.route('/register', methods=['GET', 'POST'])\n",
    "def register():\n",
    "    form = RegisterForm(request.form)\n",
    "    if request.method == 'POST' and form.validate():\n",
    "        login = form.login.data\n",
    "        email = form.email.data\n",
    "        password = sha256_crypt.encrypt(str(form.password.data))\n",
    "        #password = form.password.data\n",
    "    \n",
    "        # Create cursor\n",
    "        cur = mysql.connection.cursor()\n",
    "        \n",
    "        # Conta já existe?\n",
    "        logins = cur.execute(\"select login from usuario where login = %s\",[login])\n",
    "        if logins > 0:\n",
    "            flash('Login already exists!', 'success')\n",
    "        else:\n",
    "            # Criar Conta\n",
    "            # Execute query\n",
    "            cur.execute(f\"INSERT INTO usuario (login, senha, email) VALUES(%s, %s, %s)\",(login,password,email))\n",
    "            # Commit to DB - Salva alterações\n",
    "            mysql.connection.commit()\n",
    "            # Close connection\n",
    "            cur.close()\n",
    "\n",
    "            flash('You are now registered and can log in', 'success')\n",
    "\n",
    "        return redirect(url_for('index'))\n",
    "    \n",
    "    return render_template('register.html', form=form)\n",
    "\n",
    "# Metodo para logar\n",
    "@app.route('/login', methods=['GET', 'POST'])\n",
    "def login():\n",
    "    \n",
    "    if request.method == 'POST':\n",
    "        #Informação colocada no form.\n",
    "        login_candidate = request.form['login']\n",
    "        password_candidate = request.form['password']\n",
    "        \n",
    "        # Informação do Mysql_db\n",
    "        cur = mysql.connection.cursor()\n",
    "        # Execute query\n",
    "        result = cur.execute(\"select * from usuario where login= %s\",[login_candidate])\n",
    "        \n",
    "        # Algum registro foi encontrado.\n",
    "        if result > 0:\n",
    "            # Informações do select acima - apena o primeiro registro(em caso de multiplos) do result\n",
    "            data = cur.fetchone()            \n",
    "            # senha do login selecionado\n",
    "            # email = data['email']\n",
    "            password = data['senha']\n",
    "            # Comparar passwords\n",
    "            if sha256_crypt.verify(password_candidate,password):\n",
    "                # app.logger.info('PASSEWORD MATCHED')\n",
    "                session['logged_in'] = True\n",
    "                session['login'] = login_candidate\n",
    "                session['password'] = data['senha']\n",
    "                session['email'] = data['email']\n",
    "                \n",
    "                flash('You are now logged in','success')\n",
    "                \n",
    "                # Log de Conexão no Sistema.\n",
    "                acao = \"Usuário conectado no Sistema.\"\n",
    "                logs(acao,login_candidate,data['senha'],data['email'])\n",
    "                \n",
    "                return redirect(url_for('dashboard'))\n",
    "            else:\n",
    "                return render_template('login.html',error='Invalid Password')\n",
    "            # Fechando conexão\n",
    "            cur.close()\n",
    "        else:\n",
    "            return render_template('login.html',error=\"Invalid Login\")\n",
    "            \n",
    "            \n",
    "        # Commit to DB - Salva alterações\n",
    "        mysql.connection.commit()\n",
    "        # Close connection\n",
    "        cur.close()\n",
    "    \n",
    "    return render_template('login.html')\n",
    "\n",
    "# Check if user logged in\n",
    "def is_logged_in(f):\n",
    "    @wraps(f)\n",
    "    def wrap(*args, **kwargs):\n",
    "        if 'logged_in' in session:\n",
    "            return f(*args, **kwargs)\n",
    "        else:\n",
    "            flash('Unauthorized, Please login', 'danger')\n",
    "            # log Entrada Forçada no sistema\n",
    "            logs(\"Não autorizado\",\"Não Indicado\",\"Não Indicado\",\"Não Indicado\")\n",
    "            \n",
    "            return redirect(url_for('login'))\n",
    "    return wrap\n",
    "\n",
    "class UpdateForm(Form):\n",
    "    login = StringField('New Login',[validators.Length(min=4, max=25)])\n",
    "    email = StringField('New Email',[validators.Length(min=6, max=50)])\n",
    "    password = PasswordField('New Password', [\n",
    "        validators.DataRequired(),\n",
    "        validators.EqualTo('confirm', message='Passwords do not match')\n",
    "    ])\n",
    "    confirm = PasswordField('Confirm New Password')\n",
    "\n",
    "# User Update - Metodo de Atualização\n",
    "@app.route('/update', methods=['GET', 'POST'])\n",
    "@is_logged_in\n",
    "def update():\n",
    "    form = UpdateForm(request.form)\n",
    "    if request.method == 'POST' and form.validate():\n",
    "        login = form.login.data\n",
    "        email = form.email.data\n",
    "        password = sha256_crypt.encrypt(str(form.password.data))\n",
    "        #password = form.password.data\n",
    "\n",
    "        # Create cursor\n",
    "        cur = mysql.connection.cursor()\n",
    "        \n",
    "        # Execute query\n",
    "        cur.execute(\"UPDATE USUARIO SET login=%s,email=%s,senha=%s WHERE login = %s\",(login,email,password,session['login']))\n",
    "        \n",
    "        # Salva alterações\n",
    "        mysql.connection.commit()\n",
    "        \n",
    "        # Close connection\n",
    "        cur.close()\n",
    "\n",
    "        flash('Updated successfully', 'success')\n",
    "\n",
    "        return redirect(url_for('login'))\n",
    "    \n",
    "    return render_template('update.html', form=form)\n",
    "\n",
    "# Form delete\n",
    "class DeleteForm(Form):\n",
    "    login = StringField('Login',[validators.Length(min=4, max=25)])\n",
    "    password = PasswordField('Password', [\n",
    "        validators.DataRequired(),\n",
    "        validators.EqualTo('confirm', message='Passwords do not match')\n",
    "    ])\n",
    "    confirm = PasswordField('Confirm Password')\n",
    "\n",
    "# User Delete - Metodo de Remoção\n",
    "@app.route('/deletar', methods=['GET','DELETE'])\n",
    "@is_logged_in\n",
    "def delete():\n",
    "    form = DeleteForm(request.form)\n",
    "    #print(request.method)\n",
    "    if request.method == 'DELETE' and form.validate():\n",
    "        \n",
    "        login = form.login.data\n",
    "        password = sha256_crypt.encrypt(str(form.password.data))\n",
    "        \n",
    "        if login == session['login'] and password == session['password']:\n",
    "            \n",
    "            # executar metodo de deletar\n",
    "            \n",
    "            # Create cursor\n",
    "            cur = mysql.connection.cursor()            \n",
    "            # Execute query\n",
    "            cur.execute(\"DELETE FROM USUARIO WHERE login = %s\",session['login'])\n",
    "            \n",
    "            #Salva Alterações\n",
    "            mysql.connection.commit()\n",
    "            # Close connection\n",
    "            cur.close()\n",
    "\n",
    "            flash('User deleted successfully.', 'success')\n",
    "\n",
    "        return redirect(url_for('login'))\n",
    "    \n",
    "    #print('Não entrou no IF !!')\n",
    "    return render_template('delete.html', form=form)\n",
    "\n",
    "# Historico\n",
    "@app.route('/dashboard')\n",
    "@is_logged_in\n",
    "def dashboard():\n",
    "    # Login\n",
    "    login = session['login']\n",
    "    \n",
    "    #Create cursor\n",
    "    cur = mysql.connection.cursor()\n",
    "    # Execute query\n",
    "    result = cur.execute(\"SELECT * FROM registros where log_login= %s order by log_hora_registro desc\",[login])\n",
    "    \n",
    "    # Get all registros\n",
    "    registros =  cur.fetchall()\n",
    "    \n",
    "    # Existir algum registro\n",
    "    if result > 0:\n",
    "        return render_template('dashboard.html',registros=registros)\n",
    "    else:\n",
    "        msg = 'No Historico FOUND'\n",
    "        return render_template('dashboard.html',msg=msg)\n",
    "    \n",
    "    #Fechando conexão\n",
    "    cur.close()\n",
    "\n",
    "# Metodo para deslogar(logout)\n",
    "@app.route('/logout')\n",
    "@is_logged_in\n",
    "def logout():\n",
    "    login = session['login']\n",
    "    password = session['password']\n",
    "    email = session['email']\n",
    "    session.clear()\n",
    "    flash('You are now logged out','success')\n",
    "    \n",
    "    # Log de Desconexão do Sistema\n",
    "    acao = \"Usuário desconectou do sistema.\"\n",
    "    logs(acao,login,password,email)\n",
    "    \n",
    "    return redirect(url_for('login'))\n",
    "\n",
    "# Run Server\n",
    "if __name__ =='__main__':\n",
    "    app.run(debug=True,use_reloader=False)"
   ]
  },
  {
   "cell_type": "code",
   "execution_count": null,
   "metadata": {},
   "outputs": [],
   "source": []
  }
 ],
 "metadata": {
  "kernelspec": {
   "display_name": "Python 3",
   "language": "python",
   "name": "python3"
  },
  "language_info": {
   "codemirror_mode": {
    "name": "ipython",
    "version": 3
   },
   "file_extension": ".py",
   "mimetype": "text/x-python",
   "name": "python",
   "nbconvert_exporter": "python",
   "pygments_lexer": "ipython3",
   "version": "3.7.3"
  }
 },
 "nbformat": 4,
 "nbformat_minor": 2
}
